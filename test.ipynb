{
 "metadata": {
  "language_info": {
   "codemirror_mode": {
    "name": "ipython",
    "version": 3
   },
   "file_extension": ".py",
   "mimetype": "text/x-python",
   "name": "python",
   "nbconvert_exporter": "python",
   "pygments_lexer": "ipython3",
   "version": "3.8.3-final"
  },
  "orig_nbformat": 2,
  "kernelspec": {
   "name": "Python 3.8.3 64-bit ('base': conda)",
   "display_name": "Python 3.8.3 64-bit ('base': conda)",
   "metadata": {
    "interpreter": {
     "hash": "8248e9cecb57078b60a7bcea6b7533e4ec0213170d3cabc47387c2d3ad7692d6"
    }
   }
  }
 },
 "nbformat": 4,
 "nbformat_minor": 2,
 "cells": [
  {
   "cell_type": "code",
   "execution_count": 4,
   "metadata": {},
   "outputs": [],
   "source": [
    "\n",
    "from flask import Flask\n",
    "import requests\n",
    "from bs4 import BeautifulSoup\n",
    "import re\n",
    "from urllib.request import Request, urlopen\n",
    "\n"
   ]
  },
  {
   "cell_type": "code",
   "execution_count": 5,
   "metadata": {
    "tags": []
   },
   "outputs": [
    {
     "output_type": "stream",
     "name": "stdout",
     "text": [
      "Epidemiology of depression - Wikipedia\n"
     ]
    }
   ],
   "source": [
    "\n",
    "#title\n",
    "headers = {'user-agent': 'Mozilla/5.0' }\n",
    "page = requests.get('https://en.wikipedia.org/wiki/Epidemiology_of_depression', headers = headers)\n",
    "soup = BeautifulSoup(page.content, 'html.parser')\n",
    "title = soup.find(\"title\")\n",
    "print (title.get_text())\n"
   ]
  },
  {
   "cell_type": "code",
   "execution_count": 6,
   "metadata": {},
   "outputs": [
    {
     "output_type": "stream",
     "name": "stdout",
     "text": [
      "Epidemiology of depression - Wikipedia\nThe epidemiology of depression has been studied across the world.\nDepression is a major cause of morbidity worldwide, as the epidemiology has shown.[2] Lifetime prevalence estimates vary widely, from 3% in Japan to 17% in the United States. Epidemiological data shows higher rates of depression in the Middle East, North Africa, South Asia and America than in other countries.[3] Among the 10 countries studied, the number of people who would suffer from depression during their lives falls within an 8–12% range in most of them.[4][5]\n\n"
     ]
    }
   ],
   "source": [
    "headers = {'user-agent': 'Mozilla/5.0' }\n",
    "page = requests.get('https://en.wikipedia.org/wiki/Epidemiology_of_depression', headers = headers)\n",
    "title = soup.find(\"title\")\n",
    "paragraph = soup.find(\"p\")\n",
    "\n",
    "print (title.get_text()) \n",
    "print(paragraph.get_text())\n",
    "\n"
   ]
  },
  {
   "cell_type": "code",
   "execution_count": null,
   "metadata": {},
   "outputs": [],
   "source": []
  }
 ]
}