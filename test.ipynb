{
 "metadata": {
  "language_info": {
   "codemirror_mode": {
    "name": "ipython",
    "version": 3
   },
   "file_extension": ".py",
   "mimetype": "text/x-python",
   "name": "python",
   "nbconvert_exporter": "python",
   "pygments_lexer": "ipython3",
   "version": "3.9.0-final"
  },
  "orig_nbformat": 2,
  "kernelspec": {
   "name": "Python 3.9.0 64-bit",
   "display_name": "Python 3.9.0 64-bit",
   "metadata": {
    "interpreter": {
     "hash": "7a1f7ab3bdf2d8ddeabac2c3bb99675c1a978e7adbd77a8832479974ef047e58"
    }
   }
  }
 },
 "nbformat": 4,
 "nbformat_minor": 2,
 "cells": [
  {
   "cell_type": "code",
   "execution_count": 89,
   "metadata": {},
   "outputs": [],
   "source": [
    "\n",
    "from flask import Flask\n",
    "import requests\n",
    "from bs4 import BeautifulSoup\n",
    "import re\n",
    "from urllib.request import Request, urlopen\n",
    "\n"
   ]
  },
  {
   "cell_type": "code",
   "execution_count": 95,
   "metadata": {
    "tags": []
   },
   "outputs": [
    {
     "output_type": "stream",
     "name": "stdout",
     "text": [
      "https://i.redd.it/nb9i3mk7jvt51.jpg\n"
     ]
    }
   ],
   "source": [
    " headers = {'user-agent' : 'Mozilla/5.0'}\n",
    " page = requests.get(\"https://www.reddit.com/r/MemeEconomy/\", headers=headers)\n",
    "soup = BeautifulSoup(page.content, 'html.parser')\n",
    "imgs = soup.findAll(\"img\")\n",
    "\n",
    "imglist = []\n",
    "\n",
    "for img in imgs :\n",
    "  link_src = img.get('src')\n",
    "  imglist.append(link_src)\n",
    "print(imglist[7])\n",
    "\n",
    "\n",
    "\n"
   ]
  },
  {
   "cell_type": "code",
   "execution_count": null,
   "metadata": {},
   "outputs": [],
   "source": []
  }
 ]
}