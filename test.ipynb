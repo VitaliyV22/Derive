{
 "metadata": {
  "language_info": {
   "codemirror_mode": {
    "name": "ipython",
    "version": 3
   },
   "file_extension": ".py",
   "mimetype": "text/x-python",
   "name": "python",
   "nbconvert_exporter": "python",
   "pygments_lexer": "ipython3",
   "version": "3.9.0-final"
  },
  "orig_nbformat": 2,
  "kernelspec": {
   "name": "Python 3.9.0 64-bit",
   "display_name": "Python 3.9.0 64-bit",
   "metadata": {
    "interpreter": {
     "hash": "7a1f7ab3bdf2d8ddeabac2c3bb99675c1a978e7adbd77a8832479974ef047e58"
    }
   }
  }
 },
 "nbformat": 4,
 "nbformat_minor": 2,
 "cells": [
  {
   "cell_type": "code",
   "execution_count": 21,
   "metadata": {},
   "outputs": [],
   "source": [
    "\n",
    "from flask import Flask\n",
    "import requests\n",
    "from bs4 import BeautifulSoup \n",
    "import re\n",
    "from urllib.request import Request, urlopen\n",
    "\n"
   ]
  },
  {
   "cell_type": "code",
   "execution_count": 4,
   "metadata": {
    "tags": []
   },
   "outputs": [
    {
     "output_type": "stream",
     "name": "stdout",
     "text": [
      "Epidemiology of depression - Wikipedia\n"
     ]
    }
   ],
   "source": [
    "\n",
    "#title\n",
    "headers = {'user-agent': 'Mozilla/5.0' }\n",
    "page = requests.get('https://en.wikipedia.org/wiki/Epidemiology_of_depression', headers = headers)\n",
    "soup = BeautifulSoup(page.content, 'html.parser')\n",
    "title = soup.find(\"title\")\n",
    "print (title.get_text())\n"
   ]
  },
  {
   "cell_type": "code",
   "execution_count": 11,
   "metadata": {},
   "outputs": [
    {
     "output_type": "execute_result",
     "data": {
      "text/plain": [
       "<h2 id=\"mw-toc-heading\">Contents</h2>"
      ]
     },
     "metadata": {},
     "execution_count": 11
    }
   ],
   "source": [
    "headers = {'user-agent': 'Mozilla/5.0' }\n",
    "page = requests.get('https://en.wikipedia.org/wiki/Epidemiology_of_depression', headers = headers)\n",
    "soup = BeautifulSoup(page.content, 'html.parser')\n",
    "first_header = soup.find(\"h2\")\n",
    "\n",
    "first_header\n"
   ]
  },
  {
   "cell_type": "code",
   "execution_count": 20,
   "metadata": {
    "tags": []
   },
   "outputs": [
    {
     "output_type": "execute_result",
     "data": {
      "text/plain": [
       "<title>Sound - Wikipedia</title>"
      ]
     },
     "metadata": {},
     "execution_count": 20
    }
   ],
   "source": [
    "page = requests.get(\"https://en.wikipedia.org/wiki/Sound\")\n",
    "soup = BeautifulSoup(page.text, 'html.parser')\n",
    "soup.title\n",
    "\n"
   ]
  },
  {
   "cell_type": "code",
   "execution_count": 48,
   "metadata": {
    "tags": []
   },
   "outputs": [
    {
     "output_type": "error",
     "ename": "AttributeError",
     "evalue": "'NoneType' object has no attribute 'find_next_siblings'",
     "traceback": [
      "\u001b[1;31m---------------------------------------------------------------------------\u001b[0m",
      "\u001b[1;31mAttributeError\u001b[0m                            Traceback (most recent call last)",
      "\u001b[1;32m<ipython-input-48-b40840abf705>\u001b[0m in \u001b[0;36m<module>\u001b[1;34m\u001b[0m\n\u001b[0;32m      6\u001b[0m \u001b[1;33m\u001b[0m\u001b[0m\n\u001b[0;32m      7\u001b[0m \u001b[0mtarget\u001b[0m \u001b[1;33m=\u001b[0m \u001b[0msoup\u001b[0m\u001b[1;33m.\u001b[0m\u001b[0mfind\u001b[0m\u001b[1;33m(\u001b[0m\u001b[1;34m'h2'\u001b[0m\u001b[1;33m,\u001b[0m\u001b[0mtext\u001b[0m\u001b[1;33m=\u001b[0m\u001b[1;34m'Topic 2'\u001b[0m\u001b[1;33m)\u001b[0m\u001b[1;33m\u001b[0m\u001b[1;33m\u001b[0m\u001b[0m\n\u001b[1;32m----> 8\u001b[1;33m \u001b[1;32mfor\u001b[0m \u001b[0msib\u001b[0m \u001b[1;32min\u001b[0m \u001b[0mtarget\u001b[0m\u001b[1;33m.\u001b[0m\u001b[0mfind_next_siblings\u001b[0m\u001b[1;33m(\u001b[0m\u001b[1;33m)\u001b[0m\u001b[1;33m:\u001b[0m\u001b[1;33m\u001b[0m\u001b[1;33m\u001b[0m\u001b[0m\n\u001b[0m\u001b[0;32m      9\u001b[0m     \u001b[1;32mif\u001b[0m \u001b[0msib\u001b[0m\u001b[1;33m.\u001b[0m\u001b[0mname\u001b[0m\u001b[1;33m==\u001b[0m\u001b[1;34m\"h2\"\u001b[0m\u001b[1;33m:\u001b[0m\u001b[1;33m\u001b[0m\u001b[1;33m\u001b[0m\u001b[0m\n\u001b[0;32m     10\u001b[0m         \u001b[1;32mbreak\u001b[0m\u001b[1;33m\u001b[0m\u001b[1;33m\u001b[0m\u001b[0m\n",
      "\u001b[1;31mAttributeError\u001b[0m: 'NoneType' object has no attribute 'find_next_siblings'"
     ]
    }
   ],
   "source": [
    "headers = {'user-agent': 'Mozilla/5.0' }\n",
    "page = requests.get('https://en.wikipedia.org/wiki/Sound', headers = headers)\n",
    "soup = BeautifulSoup(page.content, 'html.parser')\n",
    " \n",
    "##title = soup.find(\"title\")\n",
    "\n",
    "target = soup.find('h2',text='Topic 2')\n",
    "for sib in target.find_next_siblings():\n",
    "    if sib.name==\"h2\":\n",
    "        break\n",
    "    else:\n",
    "        print(sib.text)\n",
    " \n"
   ]
  },
  {
   "cell_type": "code",
   "execution_count": null,
   "metadata": {},
   "outputs": [],
   "source": []
  }
 ]
}